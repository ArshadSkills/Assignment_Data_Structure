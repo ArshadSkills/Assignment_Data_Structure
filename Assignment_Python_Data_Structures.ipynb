{
  "cells": [
    {
      "cell_type": "markdown",
      "source": [
        "                                   Assignment         \n",
        "                                 Data Structure                      "
      ],
      "metadata": {
        "id": "qcu9bZzdeapA"
      },
      "id": "qcu9bZzdeapA"
    },
    {
      "cell_type": "markdown",
      "id": "9e58f306-ed6a-413d-a4c3-aedd0e708bef",
      "metadata": {
        "id": "9e58f306-ed6a-413d-a4c3-aedd0e708bef"
      },
      "source": [
        "**Q1. Discuss string slicing and provide examples?**"
      ]
    },
    {
      "cell_type": "markdown",
      "id": "2e05ff40-1b3e-416a-a2e6-9e55ecf9fd2f",
      "metadata": {
        "id": "2e05ff40-1b3e-416a-a2e6-9e55ecf9fd2f"
      },
      "source": [
        "**Ans -:** string slicing is extracting or obtaining of string or some part of string in many diffrent way include reversing, getting every second/third characters,directly getting string or sopme part of string etc."
      ]
    },
    {
      "cell_type": "code",
      "execution_count": null,
      "id": "ff17eae9-a666-434a-b348-49f4cc154c3d",
      "metadata": {
        "id": "ff17eae9-a666-434a-b348-49f4cc154c3d",
        "outputId": "7bcf62b7-9721-4ff5-82ca-a6e94891c255"
      },
      "outputs": [
        {
          "name": "stdout",
          "output_type": "stream",
          "text": [
            "Hello I am a student studying in PWSKILL's course of Data Science With generetive AI\n",
            "o I am a stude\n",
            "IA evitereneg htiW ecneicS ataD fo esruoc s'LLIKSWP ni gniyduts tneduts a ma I olleH\n",
            "H  u yiS'uoti  re\n"
          ]
        }
      ],
      "source": [
        "a = '''Hello I am a student studying in PWSKILL's course of Data Science With generetive AI'''\n",
        "\n",
        "print(a[:])         # Obtaining the whole string\n",
        "print(a[4:18])      # Obtaining some part of string\n",
        "print(a[::-1])      # Reversing the string\n",
        "print(a[::5])       # Obtaining every fifth character of string"
      ]
    },
    {
      "cell_type": "markdown",
      "id": "6dc280f5-c8ac-4a0e-99b0-8180b1023b9f",
      "metadata": {
        "id": "6dc280f5-c8ac-4a0e-99b0-8180b1023b9f"
      },
      "source": [
        "=============================================================================================="
      ]
    },
    {
      "cell_type": "markdown",
      "id": "59d63755-f477-4833-ba8a-e82b9653b0c3",
      "metadata": {
        "id": "59d63755-f477-4833-ba8a-e82b9653b0c3"
      },
      "source": [
        "**Q2. Explain the key features of lists in Python?**"
      ]
    },
    {
      "cell_type": "markdown",
      "id": "d8ac2062-21cd-4e86-8724-c35a3870fb88",
      "metadata": {
        "id": "d8ac2062-21cd-4e86-8724-c35a3870fb88"
      },
      "source": [
        "**Ans-:**Some of key features of lists includes-:"
      ]
    },
    {
      "cell_type": "markdown",
      "id": "5ce1e8d8-6f08-48fa-b96a-86712bc8dbce",
      "metadata": {
        "id": "5ce1e8d8-6f08-48fa-b96a-86712bc8dbce"
      },
      "source": [
        "**1** List is ordered arrangements of elements enclosed inside [ ] (square\n",
        "brackets)."
      ]
    },
    {
      "cell_type": "markdown",
      "id": "ea1b793e-be8c-49ad-8e69-3c64420e1ccf",
      "metadata": {
        "id": "ea1b793e-be8c-49ad-8e69-3c64420e1ccf"
      },
      "source": [
        "**2.** It's every element has it's own address known as index which can also be used to perform various functions."
      ]
    },
    {
      "cell_type": "markdown",
      "id": "d0dbd668-c23e-49ee-a7d5-a729a5359ebe",
      "metadata": {
        "id": "d0dbd668-c23e-49ee-a7d5-a729a5359ebe"
      },
      "source": [
        "**3.** List are mutable and can be modified using indexing and other functions."
      ]
    },
    {
      "cell_type": "markdown",
      "id": "21b1679a-720a-48e8-b6ca-55c6c412ff5f",
      "metadata": {
        "id": "21b1679a-720a-48e8-b6ca-55c6c412ff5f"
      },
      "source": [
        "**4.** A variety of functions like adding/removing of elements, clearing of list, deleting of list etc can be performed on list.\n",
        "\n",
        "\n",
        "    \n",
        "\n"
      ]
    },
    {
      "cell_type": "markdown",
      "id": "350aa51c-076f-49f5-b323-8b1975be9c79",
      "metadata": {
        "id": "350aa51c-076f-49f5-b323-8b1975be9c79"
      },
      "source": [
        "=============================================================================================="
      ]
    },
    {
      "cell_type": "markdown",
      "id": "c014b2de-7844-4d0d-83b8-c45479570348",
      "metadata": {
        "id": "c014b2de-7844-4d0d-83b8-c45479570348"
      },
      "source": [
        "**Q3. Describe how to access, modify, and delete elements in a list withg examples?**"
      ]
    },
    {
      "cell_type": "markdown",
      "source": [
        "**Ans**-: In list element can be accessed, modified or deleted in following ways-:"
      ],
      "metadata": {
        "id": "MWGA8NlylBqj"
      },
      "id": "MWGA8NlylBqj"
    },
    {
      "cell_type": "markdown",
      "source": [
        "**1.** List's elements canbe accessed using indexing. In indexing act as an address of element that whichever elemnt we specify it returns us the element of that index."
      ],
      "metadata": {
        "id": "anmZoZ6ilJQd"
      },
      "id": "anmZoZ6ilJQd"
    },
    {
      "cell_type": "code",
      "source": [
        "l=[ 1 , 1.2 , 1+6j , 'Arshad' , [1,2] ]\n",
        "print(l[0])            # to access single element\n",
        "print(l[1:3])          # to access range of element\n",
        "print(l[1:4:2])        # to access every odd/even or nTH element\n",
        "print(l[::-1])         # to access all element in reversed manner\n"
      ],
      "metadata": {
        "colab": {
          "base_uri": "https://localhost:8080/"
        },
        "id": "yiCe9oJ_fhcr",
        "outputId": "07b96fbc-ab79-47e4-8446-8756ca7f7e8a"
      },
      "id": "yiCe9oJ_fhcr",
      "execution_count": null,
      "outputs": [
        {
          "output_type": "stream",
          "name": "stdout",
          "text": [
            "1\n",
            "[1.2, (1+6j)]\n",
            "[1.2, 'Arshad']\n",
            "[[1, 2], 'Arshad', (1+6j), 1.2, 1]\n"
          ]
        }
      ]
    },
    {
      "cell_type": "markdown",
      "source": [
        "**2.** List can be modified in following ways\n",
        "*   **list_name.append( )** -: It is used to add one or more elemnt in a list.  "
      ],
      "metadata": {
        "id": "0g7b3k-4hSY4"
      },
      "id": "0g7b3k-4hSY4"
    },
    {
      "cell_type": "code",
      "source": [
        "l=[ 1 , 1.2 , 1+6j , 'Arshad' , [1,2] ]\n",
        "l.append({1:'Arshad' , 2: 'PWSKILLS'})\n",
        "print(l)"
      ],
      "metadata": {
        "colab": {
          "base_uri": "https://localhost:8080/"
        },
        "id": "PjZI0QSMiZZV",
        "outputId": "65701a8b-c716-4d2d-ab9f-d9115a7cf556"
      },
      "id": "PjZI0QSMiZZV",
      "execution_count": null,
      "outputs": [
        {
          "output_type": "stream",
          "name": "stdout",
          "text": [
            "[1, 1.2, (1+6j), 'Arshad', [1, 2], {1: 'Arshad', 2: 'PWSKILLS'}]\n"
          ]
        }
      ]
    },
    {
      "cell_type": "markdown",
      "source": [
        "*   **list_name.extend( )**  -: It is used to add another specified list at the last of given list.   \n"
      ],
      "metadata": {
        "id": "Ol7zuU7JjGH2"
      },
      "id": "Ol7zuU7JjGH2"
    },
    {
      "cell_type": "code",
      "source": [
        "l1=[ 1 , 1.2 , 1+6j , 'Arshad' , [1,2] ]\n",
        "l2= [(1,2,3) , 12 , '213']\n",
        "l1.extend(l2)\n",
        "print(l1)"
      ],
      "metadata": {
        "colab": {
          "base_uri": "https://localhost:8080/"
        },
        "id": "lv_RWSxDejrq",
        "outputId": "37486bc4-bb42-45d3-ecaa-7f26c13b2120"
      },
      "id": "lv_RWSxDejrq",
      "execution_count": null,
      "outputs": [
        {
          "output_type": "stream",
          "name": "stdout",
          "text": [
            "[1, 1.2, (1+6j), 'Arshad', [1, 2], (1, 2, 3), 12, '213']\n"
          ]
        }
      ]
    },
    {
      "cell_type": "markdown",
      "source": [
        "**3.** List element can be deleted in following way -:\n",
        "\n",
        "\n",
        "*  **List_name.pop( )**-: it is used to delete last element of list(i.e. elemnt at index -1).\n",
        "\n",
        "\n",
        "   \n",
        "\n"
      ],
      "metadata": {
        "id": "i_ml08qrfabW"
      },
      "id": "i_ml08qrfabW"
    },
    {
      "cell_type": "code",
      "source": [
        "l1=[ 1 , 1.2 , 1+6j , 'Arshad' , [1,2] ]\n",
        "l1.pop()\n",
        "print(l1)"
      ],
      "metadata": {
        "colab": {
          "base_uri": "https://localhost:8080/"
        },
        "id": "RTGowGRiJ1f5",
        "outputId": "7999c8e2-50a2-4edd-f99f-487a1ca1b08d"
      },
      "id": "RTGowGRiJ1f5",
      "execution_count": null,
      "outputs": [
        {
          "output_type": "stream",
          "name": "stdout",
          "text": [
            "[1, 1.2, (1+6j), 'Arshad']\n"
          ]
        }
      ]
    },
    {
      "cell_type": "markdown",
      "source": [
        "\n",
        "\n",
        "* **List_name.remove( )**-: It is used to delete a specified element mentioned inside this function.\n",
        "\n"
      ],
      "metadata": {
        "id": "gc-1zbwtKAzk"
      },
      "id": "gc-1zbwtKAzk"
    },
    {
      "cell_type": "code",
      "source": [
        "l1=[ 1 , 1.2 , 1+6j , 'Arshad' , [1,2] ]\n",
        "l1.remove(\"Arshad\")\n",
        "print(l1)"
      ],
      "metadata": {
        "colab": {
          "base_uri": "https://localhost:8080/"
        },
        "id": "8K5DaZIkKUqj",
        "outputId": "56ce301c-096a-476a-800a-903dc9bb3976"
      },
      "id": "8K5DaZIkKUqj",
      "execution_count": null,
      "outputs": [
        {
          "output_type": "stream",
          "name": "stdout",
          "text": [
            "[1, 1.2, (1+6j), [1, 2]]\n"
          ]
        }
      ]
    },
    {
      "cell_type": "markdown",
      "source": [
        "*   **List_name.clear( )**-: It is used to delete all elements of list, Thus clear the list and only [ ] remains."
      ],
      "metadata": {
        "id": "399N6ylKKVzc"
      },
      "id": "399N6ylKKVzc"
    },
    {
      "cell_type": "code",
      "source": [
        "l1=[ 1 , 1.2 , 1+6j , 'Arshad' , [1,2] ]\n",
        "l1.clear()\n",
        "print(l1)"
      ],
      "metadata": {
        "id": "hhEx4ExiKdnP",
        "colab": {
          "base_uri": "https://localhost:8080/"
        },
        "outputId": "48fd1233-1c2a-4f03-d66d-e2be5c586c83"
      },
      "id": "hhEx4ExiKdnP",
      "execution_count": null,
      "outputs": [
        {
          "output_type": "stream",
          "name": "stdout",
          "text": [
            "[]\n"
          ]
        }
      ]
    },
    {
      "cell_type": "markdown",
      "source": [
        "\n",
        "*   **del list_name** -: It deletes the entire list and not even [ ] remains.Itshows error when deleted deleted list is called.\n",
        "\n",
        "\n",
        "\n",
        "\n"
      ],
      "metadata": {
        "id": "a8t3Gn2WiN6d"
      },
      "id": "a8t3Gn2WiN6d"
    },
    {
      "cell_type": "code",
      "source": [
        "l1=[ 1 , 1.2 , 1+6j , 'Arshad' , [1,2] ]\n",
        "del l1\n",
        "print(l1)"
      ],
      "metadata": {
        "colab": {
          "base_uri": "https://localhost:8080/",
          "height": 176
        },
        "id": "XGNYh2iJiy4H",
        "outputId": "22c2b38b-2f72-44e0-c577-c2c95c0bea5c"
      },
      "id": "XGNYh2iJiy4H",
      "execution_count": null,
      "outputs": [
        {
          "output_type": "error",
          "ename": "NameError",
          "evalue": "name 'l1' is not defined",
          "traceback": [
            "\u001b[0;31m---------------------------------------------------------------------------\u001b[0m",
            "\u001b[0;31mNameError\u001b[0m                                 Traceback (most recent call last)",
            "\u001b[0;32m<ipython-input-2-4d89351a14fd>\u001b[0m in \u001b[0;36m<cell line: 3>\u001b[0;34m()\u001b[0m\n\u001b[1;32m      1\u001b[0m \u001b[0ml1\u001b[0m\u001b[0;34m=\u001b[0m\u001b[0;34m[\u001b[0m \u001b[0;36m1\u001b[0m \u001b[0;34m,\u001b[0m \u001b[0;36m1.2\u001b[0m \u001b[0;34m,\u001b[0m \u001b[0;36m1\u001b[0m\u001b[0;34m+\u001b[0m\u001b[0;36m6j\u001b[0m \u001b[0;34m,\u001b[0m \u001b[0;34m'Arshad'\u001b[0m \u001b[0;34m,\u001b[0m \u001b[0;34m[\u001b[0m\u001b[0;36m1\u001b[0m\u001b[0;34m,\u001b[0m\u001b[0;36m2\u001b[0m\u001b[0;34m]\u001b[0m \u001b[0;34m]\u001b[0m\u001b[0;34m\u001b[0m\u001b[0;34m\u001b[0m\u001b[0m\n\u001b[1;32m      2\u001b[0m \u001b[0;32mdel\u001b[0m \u001b[0ml1\u001b[0m\u001b[0;34m\u001b[0m\u001b[0;34m\u001b[0m\u001b[0m\n\u001b[0;32m----> 3\u001b[0;31m \u001b[0mprint\u001b[0m\u001b[0;34m(\u001b[0m\u001b[0ml1\u001b[0m\u001b[0;34m)\u001b[0m\u001b[0;34m\u001b[0m\u001b[0;34m\u001b[0m\u001b[0m\n\u001b[0m",
            "\u001b[0;31mNameError\u001b[0m: name 'l1' is not defined"
          ]
        }
      ]
    },
    {
      "cell_type": "markdown",
      "id": "fde47f6e-3e9e-491b-a543-bdc2100729df",
      "metadata": {
        "id": "fde47f6e-3e9e-491b-a543-bdc2100729df"
      },
      "source": [
        "=============================================================================================="
      ]
    },
    {
      "cell_type": "markdown",
      "id": "8e1dcb75-661a-4c0c-b643-f6b591ae61bb",
      "metadata": {
        "id": "8e1dcb75-661a-4c0c-b643-f6b591ae61bb"
      },
      "source": [
        "**Q4. Compare and contrast tuples and lists with examples?**"
      ]
    },
    {
      "cell_type": "markdown",
      "source": [
        "**Ans**-:\n",
        "\n",
        "***list -:***   \n",
        " *   It is ordered collection of elements of diffrnet datatype each having an address ( called index ).\n",
        "*   Lists are mutble thus can be modified using function and even can be  modified using indexing.\n",
        "* It is written inside [ ] each element sepreated by commmas.   \n",
        "*  For example -: [ 1 , 1.2 , 1+6j , 'Arshad' , [ 1 , 2 ] ]\n",
        "\n",
        "\n",
        "***tuple -:***\n",
        "\n",
        "\n",
        "*  It is also ordered collection of elements of diffrent datatype each having an address ( called index ).\n",
        "* It is written inside ( ) each seperated by commas.  \n",
        "* tuples are immutable thus cannot be modified directly using indexing , but it can be modified using functions like .upadate( ) , .remove( ) etc.\n",
        "*  For example -: ( 1 , 1.2 , 1+6j , 'Arshad' , [ 1 , 2 ] )\n",
        "\n",
        "  \n",
        "\n",
        "\n",
        "\n",
        "\n",
        "\n",
        "\n",
        "\n",
        "\n"
      ],
      "metadata": {
        "id": "O0wMRJD-jLHB"
      },
      "id": "O0wMRJD-jLHB"
    },
    {
      "cell_type": "markdown",
      "id": "5240bc13-22cc-47e6-906f-96605de18dc9",
      "metadata": {
        "id": "5240bc13-22cc-47e6-906f-96605de18dc9"
      },
      "source": [
        "=============================================================================================="
      ]
    },
    {
      "cell_type": "markdown",
      "id": "b1e395dc-0307-420a-96eb-d85e15d7ce96",
      "metadata": {
        "id": "b1e395dc-0307-420a-96eb-d85e15d7ce96"
      },
      "source": [
        "**Q5. Describe the key features of sets and provide examples of their use?**"
      ]
    },
    {
      "cell_type": "markdown",
      "source": [
        "**Ans-:** Some of key features of sets are -:\n",
        "\n",
        "\n",
        "*   It is unordered collection of unique element of diffrent datatype.\n",
        "*  It is always enclosed ionside { } brackets.\n",
        "\n",
        "*   As it is collecton of unique element no duplicate element is allowed so if we insert any same element twice then it will automatically remove one of it.\n",
        "\n",
        "\n"
      ],
      "metadata": {
        "id": "CfXVUXYYmbWc"
      },
      "id": "CfXVUXYYmbWc"
    },
    {
      "cell_type": "code",
      "source": [
        "S1={ 1 , 1.2 , 1+6j , 1 , 'Arshad' , 'Arshad' }\n",
        "print(S1)"
      ],
      "metadata": {
        "colab": {
          "base_uri": "https://localhost:8080/"
        },
        "id": "IgsWlAo6RMMV",
        "outputId": "c70b8384-d8ca-4fa6-df5b-dd3574be2d0e"
      },
      "id": "IgsWlAo6RMMV",
      "execution_count": null,
      "outputs": [
        {
          "output_type": "stream",
          "name": "stdout",
          "text": [
            "{1.2, 'Arshad', (1+6j), 1}\n"
          ]
        }
      ]
    },
    {
      "cell_type": "markdown",
      "source": [
        "\n",
        "*   It cannot contain any unhashable element like list etc.\n",
        "\n"
      ],
      "metadata": {
        "id": "jJDg9zxoQCaV"
      },
      "id": "jJDg9zxoQCaV"
    },
    {
      "cell_type": "code",
      "source": [
        "S1={ 1 , 1.2 , 1+6j , 'Arshad' , [1,2] }\n",
        "print(S1)"
      ],
      "metadata": {
        "colab": {
          "base_uri": "https://localhost:8080/",
          "height": 158
        },
        "id": "-tyt4AAkRV66",
        "outputId": "f43cdf5d-eef7-430f-cb10-9f1f1fa5a313"
      },
      "id": "-tyt4AAkRV66",
      "execution_count": null,
      "outputs": [
        {
          "output_type": "error",
          "ename": "TypeError",
          "evalue": "unhashable type: 'list'",
          "traceback": [
            "\u001b[0;31m---------------------------------------------------------------------------\u001b[0m",
            "\u001b[0;31mTypeError\u001b[0m                                 Traceback (most recent call last)",
            "\u001b[0;32m<ipython-input-4-80325fb7edb9>\u001b[0m in \u001b[0;36m<cell line: 1>\u001b[0;34m()\u001b[0m\n\u001b[0;32m----> 1\u001b[0;31m \u001b[0mS1\u001b[0m\u001b[0;34m=\u001b[0m\u001b[0;34m{\u001b[0m \u001b[0;36m1\u001b[0m \u001b[0;34m,\u001b[0m \u001b[0;36m1.2\u001b[0m \u001b[0;34m,\u001b[0m \u001b[0;36m1\u001b[0m\u001b[0;34m+\u001b[0m\u001b[0;36m6j\u001b[0m \u001b[0;34m,\u001b[0m \u001b[0;34m'Arshad'\u001b[0m \u001b[0;34m,\u001b[0m \u001b[0;34m[\u001b[0m\u001b[0;36m1\u001b[0m\u001b[0;34m,\u001b[0m\u001b[0;36m2\u001b[0m\u001b[0;34m]\u001b[0m \u001b[0;34m}\u001b[0m\u001b[0;34m\u001b[0m\u001b[0;34m\u001b[0m\u001b[0m\n\u001b[0m\u001b[1;32m      2\u001b[0m \u001b[0mprint\u001b[0m\u001b[0;34m(\u001b[0m\u001b[0mS1\u001b[0m\u001b[0;34m)\u001b[0m\u001b[0;34m\u001b[0m\u001b[0;34m\u001b[0m\u001b[0m\n",
            "\u001b[0;31mTypeError\u001b[0m: unhashable type: 'list'"
          ]
        }
      ]
    },
    {
      "cell_type": "markdown",
      "id": "a5869eae-37ca-4110-bbd2-3f3e2adb6f7a",
      "metadata": {
        "id": "a5869eae-37ca-4110-bbd2-3f3e2adb6f7a"
      },
      "source": [
        "=============================================================================================="
      ]
    },
    {
      "cell_type": "markdown",
      "id": "61b7e29d-b6b7-4e32-9a81-70878feb03ed",
      "metadata": {
        "id": "61b7e29d-b6b7-4e32-9a81-70878feb03ed"
      },
      "source": [
        "**Q6. Discuss the use cases of tuples and sets in python programming?**\n",
        "\n",
        "\n"
      ]
    },
    {
      "cell_type": "markdown",
      "source": [
        "**Ans-:**\n",
        "\n",
        "Some of use cases of tuple are -:\n",
        "\n",
        "\n",
        "*   It is used when we generally don\"t want our data to be overwritten again after a time (that is the reason it's immutable).\n",
        "*    It is also used to arrange our data in a specific order which suits us best.\n",
        "\n",
        "Some of use cases of set are -:\n",
        "\n",
        "\n",
        "*   It is used when we don't want any duplicate data while storing our information.\n",
        "*   It is used when we want to store our data in unordered form.\n",
        "\n",
        "\n"
      ],
      "metadata": {
        "id": "L1UxeNrKSJHT"
      },
      "id": "L1UxeNrKSJHT"
    },
    {
      "cell_type": "markdown",
      "id": "c4ecc64a-ce68-4cfc-8e59-42401e5addc7",
      "metadata": {
        "id": "c4ecc64a-ce68-4cfc-8e59-42401e5addc7"
      },
      "source": [
        "=============================================================================================="
      ]
    },
    {
      "cell_type": "markdown",
      "id": "2a9703bf-50ed-41fe-aef2-f7e8c58eeab7",
      "metadata": {
        "id": "2a9703bf-50ed-41fe-aef2-f7e8c58eeab7"
      },
      "source": [
        "**Q7. Describe how to add, modify, and delete items in dictionaries with examples?**"
      ]
    },
    {
      "cell_type": "markdown",
      "source": [
        "**Ans-: 1.** For adding elements in a dictionary following function is used -:\n",
        "\n",
        "\n",
        "*   **dict_name.update( )** -: This function is used for adding new key value pair to dictionary."
      ],
      "metadata": {
        "id": "H7uUZ1tAUoDN"
      },
      "id": "H7uUZ1tAUoDN"
    },
    {
      "cell_type": "code",
      "source": [
        "d1= {'Name': 'Arshad' , 'Address' : 'Not mentioned'}\n",
        "d1.update({'skill':'Data Science With AI'})\n",
        "print(d1)"
      ],
      "metadata": {
        "colab": {
          "base_uri": "https://localhost:8080/"
        },
        "id": "X4ccbAYQNFMf",
        "outputId": "2f055550-b86d-4992-8c23-401851980fca"
      },
      "id": "X4ccbAYQNFMf",
      "execution_count": 6,
      "outputs": [
        {
          "output_type": "stream",
          "name": "stdout",
          "text": [
            "{'Name': 'Arshad', 'Adress': 'Not mentioned', 'skill': 'Data Science With AI'}\n"
          ]
        }
      ]
    },
    {
      "cell_type": "markdown",
      "source": [
        " **2.** Element can be modified in following ways -:\n",
        "\n",
        "\n",
        "* **Using Indexing -:** We can modify *values*  using indexing but can't modify keys using it.   \n"
      ],
      "metadata": {
        "id": "UUdnyagfNptA"
      },
      "id": "UUdnyagfNptA"
    },
    {
      "cell_type": "code",
      "source": [
        "d1= {'Name': 'Arshad' , 'Address' : 'Not mentioned'}\n",
        "d1['Name']= 'Anas'\n",
        "print(d1)"
      ],
      "metadata": {
        "colab": {
          "base_uri": "https://localhost:8080/"
        },
        "id": "3hXs3e4LRplu",
        "outputId": "6336105f-7e22-402f-94b0-f12fffe22af0"
      },
      "id": "3hXs3e4LRplu",
      "execution_count": 7,
      "outputs": [
        {
          "output_type": "stream",
          "name": "stdout",
          "text": [
            "{'Name': 'Anas', 'Address': 'Not mentioned'}\n"
          ]
        }
      ]
    },
    {
      "cell_type": "markdown",
      "source": [
        "**3.** element can be deleted in following ways-:\n",
        "\n",
        "\n",
        "* **dict_name.remove( )-:** It deletes the key value pair mentioned inside the function.\n",
        "\n"
      ],
      "metadata": {
        "id": "lMeiEeMDSDf1"
      },
      "id": "lMeiEeMDSDf1"
    },
    {
      "cell_type": "code",
      "source": [
        "d1= {'Name': 'Arshad' , 'Address' : 'Not mentioned'}\n",
        "d1.pop('Address')\n",
        "print(d1)"
      ],
      "metadata": {
        "colab": {
          "base_uri": "https://localhost:8080/"
        },
        "id": "HVycshmASp4w",
        "outputId": "2d61be41-6c13-4dc1-d987-f507b53d0f63"
      },
      "id": "HVycshmASp4w",
      "execution_count": 9,
      "outputs": [
        {
          "output_type": "stream",
          "name": "stdout",
          "text": [
            "{'Name': 'Arshad'}\n"
          ]
        }
      ]
    },
    {
      "cell_type": "markdown",
      "source": [
        "\n",
        "\n",
        "*   **dict_name.clear( ) -:** It deletes all key-value pairs in the dictionary and only { } remains.\n",
        "\n"
      ],
      "metadata": {
        "id": "NCuyUpJ6SQ15"
      },
      "id": "NCuyUpJ6SQ15"
    },
    {
      "cell_type": "code",
      "source": [
        "d1= {'Name': 'Arshad' , 'Address' : 'Not mentioned'}\n",
        "d1.clear()\n",
        "print(d1)\n"
      ],
      "metadata": {
        "colab": {
          "base_uri": "https://localhost:8080/"
        },
        "id": "uKGBg6hPTQ7H",
        "outputId": "b76eb916-3b19-4aa8-d711-61fb6a69ca8e"
      },
      "id": "uKGBg6hPTQ7H",
      "execution_count": 10,
      "outputs": [
        {
          "output_type": "stream",
          "name": "stdout",
          "text": [
            "{}\n"
          ]
        }
      ]
    },
    {
      "cell_type": "markdown",
      "source": [
        "\n",
        "\n",
        "*   **del dict_name -:** It is used to delete a single element and can also be use to delete whole list where not even { } remains. It throw error if deleted list is called.  \n",
        "\n"
      ],
      "metadata": {
        "id": "ndBNu6LdSR9a"
      },
      "id": "ndBNu6LdSR9a"
    },
    {
      "cell_type": "code",
      "source": [
        "d1= {'Name': 'Arshad' , 'Address' : 'Not mentioned'}\n",
        "del d1['Name']\n",
        "print(d1)\n",
        "del d1\n",
        "print(d1)\n"
      ],
      "metadata": {
        "colab": {
          "base_uri": "https://localhost:8080/",
          "height": 193
        },
        "id": "Bw_RZKyVUkbx",
        "outputId": "667830cd-0ae2-40fc-9ca5-e74fe2856420"
      },
      "id": "Bw_RZKyVUkbx",
      "execution_count": 11,
      "outputs": [
        {
          "output_type": "stream",
          "name": "stdout",
          "text": [
            "{'Address': 'Not mentioned'}\n"
          ]
        },
        {
          "output_type": "error",
          "ename": "NameError",
          "evalue": "name 'd1' is not defined",
          "traceback": [
            "\u001b[0;31m---------------------------------------------------------------------------\u001b[0m",
            "\u001b[0;31mNameError\u001b[0m                                 Traceback (most recent call last)",
            "\u001b[0;32m<ipython-input-11-bb6aa641dbbe>\u001b[0m in \u001b[0;36m<cell line: 5>\u001b[0;34m()\u001b[0m\n\u001b[1;32m      3\u001b[0m \u001b[0mprint\u001b[0m\u001b[0;34m(\u001b[0m\u001b[0md1\u001b[0m\u001b[0;34m)\u001b[0m\u001b[0;34m\u001b[0m\u001b[0;34m\u001b[0m\u001b[0m\n\u001b[1;32m      4\u001b[0m \u001b[0;32mdel\u001b[0m \u001b[0md1\u001b[0m\u001b[0;34m\u001b[0m\u001b[0;34m\u001b[0m\u001b[0m\n\u001b[0;32m----> 5\u001b[0;31m \u001b[0mprint\u001b[0m\u001b[0;34m(\u001b[0m\u001b[0md1\u001b[0m\u001b[0;34m)\u001b[0m\u001b[0;34m\u001b[0m\u001b[0;34m\u001b[0m\u001b[0m\n\u001b[0m",
            "\u001b[0;31mNameError\u001b[0m: name 'd1' is not defined"
          ]
        }
      ]
    },
    {
      "cell_type": "markdown",
      "id": "72087956-17d6-4078-af6a-3767864a4809",
      "metadata": {
        "id": "72087956-17d6-4078-af6a-3767864a4809"
      },
      "source": [
        "=============================================================================================="
      ]
    },
    {
      "cell_type": "markdown",
      "id": "15197c90-1bd3-4702-98e9-8a8c1b6884e1",
      "metadata": {
        "id": "15197c90-1bd3-4702-98e9-8a8c1b6884e1"
      },
      "source": [
        "**Q8. Discuss the importance of dictionary keys being immutable and provide examples?**\n"
      ]
    },
    {
      "cell_type": "markdown",
      "source": [
        "**Ans-:** dictionary keys are immutable because-:\n",
        "\n",
        "\n",
        "*   Immutable keys act as title are used to accessed the information(value) under that specific title.\n",
        "*   If keys would not be immutable than one can mess up everything in dictionary. Like if somebody will change the key name then we will no longer able to access the information stored in it.\n",
        "*   It satisfy us that the value which is displayed under a key is correct as key can't be change and same key can't have mutiple values.  \n",
        "\n",
        "\n"
      ],
      "metadata": {
        "id": "hgQwwDTTUq42"
      },
      "id": "hgQwwDTTUq42"
    },
    {
      "cell_type": "markdown",
      "id": "6e91dffe-287e-4084-a364-f70527f9b62e",
      "metadata": {
        "id": "6e91dffe-287e-4084-a364-f70527f9b62e"
      },
      "source": [
        "=============================================================================================="
      ]
    }
  ],
  "metadata": {
    "kernelspec": {
      "display_name": "Python 3 (ipykernel)",
      "language": "python",
      "name": "python3"
    },
    "language_info": {
      "codemirror_mode": {
        "name": "ipython",
        "version": 3
      },
      "file_extension": ".py",
      "mimetype": "text/x-python",
      "name": "python",
      "nbconvert_exporter": "python",
      "pygments_lexer": "ipython3",
      "version": "3.12.4"
    },
    "colab": {
      "provenance": []
    }
  },
  "nbformat": 4,
  "nbformat_minor": 5
}